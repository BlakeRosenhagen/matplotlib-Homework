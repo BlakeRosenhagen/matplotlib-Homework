{
 "cells": [
  {
   "cell_type": "code",
   "execution_count": 9,
   "metadata": {},
   "outputs": [],
   "source": [
    "%matplotlib inline\n",
    "\n",
    "import matplotlib\n",
    "import seaborn as sns\n",
    "import matplotlib.pyplot as plt\n",
    "import pandas as pd\n",
    "import numpy as np\n",
    "\n",
    "city_data_to_load = \"data/city_data.csv\"\n",
    "ride_data_to_load = \"data/ride_data.csv\"\n",
    "\n",
    "import matplotlib.cm as cm\n",
    "import matplotlib.colors as col\n",
    "\n",
    "handle_list = []\n",
    "cnt = 0"
   ]
  },
  {
   "cell_type": "code",
   "execution_count": 2,
   "metadata": {},
   "outputs": [
    {
     "data": {
      "text/html": [
       "<div>\n",
       "<style scoped>\n",
       "    .dataframe tbody tr th:only-of-type {\n",
       "        vertical-align: middle;\n",
       "    }\n",
       "\n",
       "    .dataframe tbody tr th {\n",
       "        vertical-align: top;\n",
       "    }\n",
       "\n",
       "    .dataframe thead th {\n",
       "        text-align: right;\n",
       "    }\n",
       "</style>\n",
       "<table border=\"1\" class=\"dataframe\">\n",
       "  <thead>\n",
       "    <tr style=\"text-align: right;\">\n",
       "      <th></th>\n",
       "      <th>city</th>\n",
       "      <th>driver_count</th>\n",
       "      <th>type</th>\n",
       "      <th>date</th>\n",
       "      <th>fare</th>\n",
       "      <th>ride_id</th>\n",
       "    </tr>\n",
       "  </thead>\n",
       "  <tbody>\n",
       "    <tr>\n",
       "      <th>0</th>\n",
       "      <td>Richardfort</td>\n",
       "      <td>38</td>\n",
       "      <td>Urban</td>\n",
       "      <td>2018-02-24 08:40:38</td>\n",
       "      <td>13.93</td>\n",
       "      <td>5628545007794</td>\n",
       "    </tr>\n",
       "    <tr>\n",
       "      <th>1</th>\n",
       "      <td>Richardfort</td>\n",
       "      <td>38</td>\n",
       "      <td>Urban</td>\n",
       "      <td>2018-02-13 12:46:07</td>\n",
       "      <td>14.00</td>\n",
       "      <td>910050116494</td>\n",
       "    </tr>\n",
       "    <tr>\n",
       "      <th>2</th>\n",
       "      <td>Richardfort</td>\n",
       "      <td>38</td>\n",
       "      <td>Urban</td>\n",
       "      <td>2018-02-16 13:52:19</td>\n",
       "      <td>17.92</td>\n",
       "      <td>820639054416</td>\n",
       "    </tr>\n",
       "    <tr>\n",
       "      <th>3</th>\n",
       "      <td>Richardfort</td>\n",
       "      <td>38</td>\n",
       "      <td>Urban</td>\n",
       "      <td>2018-02-01 20:18:28</td>\n",
       "      <td>10.26</td>\n",
       "      <td>9554935945413</td>\n",
       "    </tr>\n",
       "    <tr>\n",
       "      <th>4</th>\n",
       "      <td>Richardfort</td>\n",
       "      <td>38</td>\n",
       "      <td>Urban</td>\n",
       "      <td>2018-04-17 02:26:37</td>\n",
       "      <td>23.00</td>\n",
       "      <td>720020655850</td>\n",
       "    </tr>\n",
       "  </tbody>\n",
       "</table>\n",
       "</div>"
      ],
      "text/plain": [
       "          city  driver_count   type                 date   fare        ride_id\n",
       "0  Richardfort            38  Urban  2018-02-24 08:40:38  13.93  5628545007794\n",
       "1  Richardfort            38  Urban  2018-02-13 12:46:07  14.00   910050116494\n",
       "2  Richardfort            38  Urban  2018-02-16 13:52:19  17.92   820639054416\n",
       "3  Richardfort            38  Urban  2018-02-01 20:18:28  10.26  9554935945413\n",
       "4  Richardfort            38  Urban  2018-04-17 02:26:37  23.00   720020655850"
      ]
     },
     "execution_count": 2,
     "metadata": {},
     "output_type": "execute_result"
    }
   ],
   "source": [
    "citydata=pd.read_csv(city_data_to_load)\n",
    "ridedata=pd.read_csv(ride_data_to_load)\n",
    "\n",
    "mergeddata=pd.merge(citydata,ridedata, how=\"inner\", on=\"city\")\n",
    "mergeddata.head()\n",
    "\n",
    "\n"
   ]
  },
  {
   "cell_type": "code",
   "execution_count": 3,
   "metadata": {},
   "outputs": [],
   "source": [
    "#urbantype=mergeddata[\"type\"]==\"urban\"\n",
    "urbantype=mergeddata[mergeddata[\"type\"]==\"Urban\"]\n",
    "suburbantype=mergeddata[mergeddata[\"type\"]==\"Suburban\"]\n",
    "ruraltype=mergeddata[mergeddata[\"type\"]==\"Rural\"]"
   ]
  },
  {
   "cell_type": "code",
   "execution_count": 4,
   "metadata": {},
   "outputs": [],
   "source": [
    "urbanRcount=urbantype.groupby([\"city\"]).count()[\"ride_id\"]\n",
    "urbanaveragefare=urbantype.groupby([\"city\"]).mean()[\"fare\"]\n",
    "#next variable is strange, look over again\n",
    "urbanDcount=urbantype.groupby([\"city\"]).count()[\"ride_id\"]\n"
   ]
  },
  {
   "cell_type": "code",
   "execution_count": 5,
   "metadata": {},
   "outputs": [],
   "source": [
    "suburbanRcount=suburbantype.groupby([\"city\"]).count()[\"ride_id\"]\n",
    "suburbanaveragefare=suburbantype.groupby([\"city\"]).mean()[\"fare\"]\n",
    "#next variable is strange, look over again\n",
    "suburbanDcount=suburbantype.groupby([\"city\"]).count()[\"ride_id\"]"
   ]
  },
  {
   "cell_type": "code",
   "execution_count": 6,
   "metadata": {},
   "outputs": [],
   "source": [
    "ruralRcount=ruraltype.groupby([\"city\"]).count()[\"ride_id\"]\n",
    "ruralaveragefare=ruraltype.groupby([\"city\"]).mean()[\"fare\"]\n",
    "#next variable is strange, look over again\n",
    "ruralDcount=ruraltype.groupby([\"city\"]).count()[\"ride_id\"]"
   ]
  },
  {
   "cell_type": "markdown",
   "metadata": {},
   "source": [
    "## Bubble Plot of Ride Sharing Data"
   ]
  },
  {
   "cell_type": "code",
   "execution_count": 12,
   "metadata": {},
   "outputs": [
    {
     "data": {
      "image/png": "[encoded data removed]",
      "text/plain": [
       "<Figure size 432x288 with 1 Axes>"
      ]
     },
     "metadata": {
      "needs_background": "light"
     },
     "output_type": "display_data"
    }
   ],
   "source": [
    "plt.scatter(urbanRcount,urbanaveragefare,c=\"red\",marker=\"o\",s=urbanDcount*15,alpha=.6)\n",
    "\n",
    "plt.scatter(suburbanRcount,suburbanaveragefare,c=\"blue\",marker=\"o\",s=suburbanDcount*15,alpha=.6)\n",
    "\n",
    "plt.scatter(ruralRcount,ruralaveragefare,c=\"green\",marker=\"o\",s=ruralDcount*15,alpha=.6)\n",
    "\n",
    "plt.xlabel(\"Total Number Of Rides (Per City)\")\n",
    "plt.ylabel(\"Average Fare ($)\")\n",
    "plt.title(\"Pyber Ride Sharing Data (2018)\")\n",
    "plt.grid(True)\n",
    "plt.text(45,35,\"Note:\\nCircle size correlates with driver count per city\")\n",
    "\n",
    "plt.savefig(\"Sca1.png\")\n",
    "plt.show()"
   ]
  },
  {
   "cell_type": "code",
   "execution_count": null,
   "metadata": {},
   "outputs": [],
   "source": [
    "# Show plot\n",
    "plt.show()"
   ]
  },
  {
   "cell_type": "markdown",
   "metadata": {},
   "source": [
    "## Total Fares by City Type"
   ]
  },
  {
   "cell_type": "code",
   "execution_count": null,
   "metadata": {},
   "outputs": [],
   "source": [
    "percentpertype=mergeddata.groupby([\"type\"]).sum()[\"fare\"]/mergeddata[\"fare\"].sum()\n",
    "plt.pie(percentpertype,labels=[\"Rural\",\"Suburban\",\"Urban\"],\n",
    "        colors=[\"green\",\"blue\",\"red\"],shadow=\"True\",\n",
    "        startangle=150,autopct='%1.0f%%',explode=[0.2,0,0])\n",
    "plt.title(\"Total Fares by City Type\")\n",
    "plt.savefig(\"Pie1.png\")\n",
    "plt.show()"
   ]
  },
  {
   "cell_type": "markdown",
   "metadata": {},
   "source": [
    "## Total Rides by City Type"
   ]
  },
  {
   "cell_type": "code",
   "execution_count": null,
   "metadata": {},
   "outputs": [],
   "source": [
    "ridepercentpertype=mergeddata.groupby([\"type\"]).count()[\"ride_id\"]/mergeddata[\"ride_id\"].count()\n",
    "plt.pie(ridepercentpertype,labels=[\"Rural\",\"Suburban\",\"Urban\"],\n",
    "        colors=[\"green\",\"blue\",\"red\"],shadow=\"True\",\n",
    "        startangle=150,autopct='%1.0f%%',explode=[0.2,0,0])\n",
    "plt.title(\"Total Rides by City Type\")\n",
    "plt.savefig(\"Pie2.png\")\n",
    "plt.show()"
   ]
  },
  {
   "cell_type": "code",
   "execution_count": null,
   "metadata": {},
   "outputs": [],
   "source": [
    "# Show Figure\n",
    "plt.show()"
   ]
  },
  {
   "cell_type": "markdown",
   "metadata": {},
   "source": [
    "## Total Drivers by City Type"
   ]
  },
  {
   "cell_type": "code",
   "execution_count": null,
   "metadata": {},
   "outputs": [],
   "source": [
    "driverpercentpertype=mergeddata.groupby([\"type\"]).sum()[\"driver_count\"]/mergeddata[\"driver_count\"].sum()\n",
    "plt.pie(driverpercentpertype,labels=[\"Rural\",\"Suburban\",\"Urban\"],\n",
    "        colors=[\"green\",\"blue\",\"red\"],shadow=\"True\",\n",
    "        startangle=160,autopct='%1.0f%%',explode=[0.2,0,0],)\n",
    "plt.savefig(\"Pie3.png\")\n",
    "plt.show()"
   ]
  }
 ],
 "metadata": {
  "anaconda-cloud": {},
  "kernelspec": {
   "display_name": "Python 3",
   "language": "python",
   "name": "python3"
  },
  "language_info": {
   "codemirror_mode": {
    "name": "ipython",
    "version": 3
   },
   "file_extension": ".py",
   "mimetype": "text/x-python",
   "name": "python",
   "nbconvert_exporter": "python",
   "pygments_lexer": "ipython3",
   "version": "3.6.8"
  }
 },
 "nbformat": 4,
 "nbformat_minor": 2
}
